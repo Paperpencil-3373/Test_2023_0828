{
 "cells": [
  {
   "cell_type": "code",
   "execution_count": 1,
   "metadata": {},
   "outputs": [
    {
     "name": "stdout",
     "output_type": "stream",
     "text": [
      "hello\n"
     ]
    }
   ],
   "source": [
    "print(\"hello\")\n",
    "\n",
    "print('hello02')\n",
    "\n",
    "print(\"hello04\")\n",
    "\n",
<<<<<<< HEAD
<<<<<<< HEAD
=======
>>>>>>> 3c347e1 (dev02_02)
    "print(\"dev02\")\n",
    "print(\"dev02\")\n",
    "print(\"dev02\")\n",
    "print(\"dev02\")\n",
    "print(\"dev02\")\n",
    "print(\"dev02\")"
=======
>>>>>>> adf61a5 (dev01_02)
    "print(\"dev01\")\n",
    "print(\"dev01\")\n",
    "print(\"dev01\")\n",
    "print(\"dev01\")\n",
    "print(\"dev01\")\n",
    "print(\"dev01\")\n"
<<<<<<< HEAD
    "print(\"dev01\")"
=======
>>>>>>> adf61a5 (dev01_02)
   ]
  }
 ],
 "metadata": {
  "kernelspec": {
   "display_name": "base",
   "language": "python",
   "name": "python3"
  },
  "language_info": {
   "codemirror_mode": {
    "name": "ipython",
    "version": 3
   },
   "file_extension": ".py",
   "mimetype": "text/x-python",
   "name": "python",
   "nbconvert_exporter": "python",
   "pygments_lexer": "ipython3",
   "version": "3.10.9"
  },
  "orig_nbformat": 4
 },
 "nbformat": 4,
 "nbformat_minor": 2
}
